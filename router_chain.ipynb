{
 "cells": [
  {
   "cell_type": "code",
   "execution_count": 2,
   "id": "9143f1c3-5630-46b4-9edf-6ddb34e9352d",
   "metadata": {},
   "outputs": [],
   "source": [
    "# !unzip data.zip"
   ]
  },
  {
   "cell_type": "code",
   "execution_count": 1,
   "id": "cd9d0d4c-c3eb-48b7-a5dd-9558e46f6969",
   "metadata": {},
   "outputs": [],
   "source": [
    "import json"
   ]
  },
  {
   "cell_type": "markdown",
   "id": "be05bbf5-c46a-4b5d-81cc-2798324f3b86",
   "metadata": {},
   "source": [
    "## RAG"
   ]
  },
  {
   "cell_type": "code",
   "execution_count": 2,
   "id": "60ac46a8-e8ac-43ff-aaea-672f97739407",
   "metadata": {},
   "outputs": [],
   "source": [
    "from langchain_openai import ChatOpenAI, OpenAIEmbeddings\n",
    "from langchain_core.output_parsers import StrOutputParser\n",
    "from langchain_core.prompts import PromptTemplate\n",
    "from langchain_community.vectorstores import FAISS\n",
    "from langchain.docstore.document import Document\n",
    "from langchain_core.runnables import RunnablePassthrough, RunnableParallel\n",
    "from langchain_core.runnables import RunnableLambda"
   ]
  },
  {
   "cell_type": "code",
   "execution_count": 3,
   "id": "a7caaa07-b58e-4953-a465-cb4bbf53d64f",
   "metadata": {},
   "outputs": [],
   "source": [
    "embedding_fn = OpenAIEmbeddings()"
   ]
  },
  {
   "cell_type": "code",
   "execution_count": 4,
   "id": "1ac721a6-4293-4fd4-ac21-a67becd82e97",
   "metadata": {},
   "outputs": [],
   "source": [
    "def format_docs(docs):\n",
    "    return \"\\n\\n\".join(doc.page_content for doc in docs)\n",
    "\n",
    "def rag_chain_from_docs(prompt, llm, output_parser):\n",
    "    chain = (\n",
    "        RunnablePassthrough.assign(context=(lambda x: format_docs(x[\"context\"])))\n",
    "        | prompt\n",
    "        | llm\n",
    "        | output_parser\n",
    "    )\n",
    "    return chain"
   ]
  },
  {
   "cell_type": "markdown",
   "id": "b09d1cdc-9f01-4157-869a-729bd6c5741d",
   "metadata": {},
   "source": [
    "### HW3 Chain"
   ]
  },
  {
   "cell_type": "code",
   "execution_count": 5,
   "id": "b36e6d2c-f3ed-4b20-9584-6ac92249a7da",
   "metadata": {},
   "outputs": [],
   "source": [
    "hw3_db = FAISS.load_local(\"data/vector_index/hw3_db\", embedding_fn, allow_dangerous_deserialization=True)\n",
    "hw3_retriever = hw3_db.as_retriever(search_kwargs={\"k\":2})"
   ]
  },
  {
   "cell_type": "code",
   "execution_count": 6,
   "id": "02d65e5a-c179-4fa6-b007-87076fea515a",
   "metadata": {},
   "outputs": [],
   "source": [
    "hw3_prompt = PromptTemplate.from_template(\n",
    "        \"\"\"You are an expert in answering questions related to Homework 3 of Database Systems. \\\n",
    "Respond to the following question using only the provided context:\n",
    "If the context do not contain an answer but lead to a resource mention the resource as the final answer.\n",
    "Do not use your internal memory to answer the question.\n",
    "\n",
    "Context: {context}\n",
    "\n",
    "Question: {question}\n",
    "\n",
    "Answer:\"\"\"\n",
    ")\n",
    "\n",
    "output_parser = StrOutputParser()\n",
    "llm = ChatOpenAI()\n",
    "\n",
    "hw3_chain = RunnableParallel(\n",
    "    context=(lambda x: x[\"question\"]) | hw3_retriever,\n",
    "    question=(lambda x: x[\"question\"])\n",
    ").assign(answer=rag_chain_from_docs(hw3_prompt, llm, output_parser))"
   ]
  },
  {
   "cell_type": "markdown",
   "id": "72c1cc64-fb36-4de4-bfcb-b850c476205f",
   "metadata": {},
   "source": [
    "### HW4 Chain"
   ]
  },
  {
   "cell_type": "code",
   "execution_count": 7,
   "id": "fa3ea40c-d8e0-4ef6-996c-3931a0ce7c75",
   "metadata": {},
   "outputs": [],
   "source": [
    "hw4_db = FAISS.load_local(\"data/vector_index/hw4_db\", embedding_fn, allow_dangerous_deserialization=True)\n",
    "hw4_retriever = hw4_db.as_retriever(search_kwargs={\"k\":2})"
   ]
  },
  {
   "cell_type": "code",
   "execution_count": 8,
   "id": "f1b49039-6e6a-4762-bdc3-7e8ec7ca4401",
   "metadata": {},
   "outputs": [],
   "source": [
    "hw4_prompt = PromptTemplate.from_template(\n",
    "        \"\"\"You are an expert in answering questions related to Homework 4 of Database Systems. \\\n",
    "Respond to the following question using only the provided context:\n",
    "If the context do not contain an answer but lead to a resource mention the resource as the final answer.\n",
    "Do not use your internal memory to answer the question.\n",
    "\n",
    "Context: {context}\n",
    "\n",
    "Question: {question}\n",
    "\n",
    "Answer:\"\"\"\n",
    ")\n",
    "\n",
    "output_parser = StrOutputParser()\n",
    "llm = ChatOpenAI(api_key=\"\")\n",
    "\n",
    "hw4_chain = RunnableParallel(\n",
    "    context=(lambda x: x[\"question\"]) | hw4_retriever,\n",
    "    question=(lambda x: x[\"question\"])\n",
    ").assign(answer=rag_chain_from_docs(hw4_prompt, llm, output_parser))"
   ]
  },
  {
   "cell_type": "markdown",
   "id": "1559a08e-ef0c-49d5-b2bf-c0ca99ee2f59",
   "metadata": {},
   "source": [
    "## Lecture 1 Chain"
   ]
  },
  {
   "cell_type": "code",
   "execution_count": 9,
   "id": "0c33e990-e4f1-40d7-88e6-a07959d767b8",
   "metadata": {},
   "outputs": [],
   "source": [
    "lec1_db = FAISS.load_local(\"data/video_index/Lec_1_db\", embedding_fn, allow_dangerous_deserialization=True)\n",
    "lec1_retriever = lec1_db.as_retriever(search_kwargs={\"k\":2})"
   ]
  },
  {
   "cell_type": "code",
   "execution_count": 10,
   "id": "ff8a0f43-3796-40ab-97b1-57e946af6095",
   "metadata": {
    "scrolled": true
   },
   "outputs": [],
   "source": [
    "lec1_prompt = PromptTemplate.from_template(\n",
    "        \"\"\"You are an expert in answering questions related to Lecture 1 of Database Systems. \\\n",
    "Respond to the following question using only the provided context:\n",
    "If the context do not contain an answer but lead to a resource mention the resource as the final answer.\n",
    "Do not use your internal memory to answer the question.\n",
    "\n",
    "Context: {context}\n",
    "\n",
    "Question: {question}\n",
    "\n",
    "Answer:\"\"\"\n",
    ")\n",
    "\n",
    "output_parser = StrOutputParser()\n",
    "llm = ChatOpenAI()\n",
    "\n",
    "lec1_chain = RunnableParallel(\n",
    "    context=(lambda x: x[\"question\"]) | lec1_retriever,\n",
    "    question=(lambda x: x[\"question\"])\n",
    ").assign(answer=rag_chain_from_docs(lec1_prompt, llm, output_parser))"
   ]
  },
  {
   "cell_type": "markdown",
   "id": "7996669e-3ae5-427f-b4ec-16f39f6249d3",
   "metadata": {},
   "source": [
    "## PDF Chain"
   ]
  },
  {
   "cell_type": "code",
   "execution_count": 11,
   "id": "7fe4d2ce-df69-421e-929d-bae413f8be40",
   "metadata": {},
   "outputs": [],
   "source": [
    "pdf_db = FAISS.load_local(\"data/pdf_index/pdf_db\", embedding_fn, allow_dangerous_deserialization=True)\n",
    "pdf_retriever = pdf_db.as_retriever(search_kwargs={\"k\":2})"
   ]
  },
  {
   "cell_type": "code",
   "execution_count": 23,
   "id": "f27f23fc-eb9f-440c-9d6a-0218c9db94f3",
   "metadata": {},
   "outputs": [],
   "source": [
    "pdf_prompt = PromptTemplate.from_template(\n",
    "        \"\"\"You are an expert in answering questions related to general lecture information embedded in pdf of Database Systems. \\\n",
    "Respond to the following question using only the provided context:\n",
    "If the context do not contain an answer but lead to a resource mention the resource as the final answer.\n",
    "Do not use your internal memory to answer the question.\n",
    "\n",
    "Context: {context}\n",
    "\n",
    "Question: {question}\n",
    "\n",
    "Answer:\"\"\"\n",
    ")\n",
    "\n",
    "output_parser = StrOutputParser()\n",
    "llm = ChatOpenAI()\n",
    "\n",
    "pdf_chain = RunnableParallel(\n",
    "    context=(lambda x: x[\"question\"]) | pdf_retriever,\n",
    "    question=(lambda x: x[\"question\"])\n",
    ").assign(answer=rag_chain_from_docs(pdf_prompt, llm, output_parser))"
   ]
  },
  {
   "cell_type": "markdown",
   "id": "8747afe8-a680-468e-bbd1-6f8e2d2838d7",
   "metadata": {},
   "source": [
    "## HW Integrity"
   ]
  },
  {
   "cell_type": "code",
   "execution_count": 39,
   "id": "842792bc-79e5-4c26-933e-fec7eb320473",
   "metadata": {},
   "outputs": [],
   "source": [
    "hw_questions = [\n",
    "    \"Compare and contrast extendible hashing with linear hashing?\"\n",
    "]"
   ]
  },
  {
   "cell_type": "markdown",
   "id": "8b3c7460-544e-4e65-868a-2f7c3a28e94f",
   "metadata": {},
   "source": [
    "### Router"
   ]
  },
  {
   "cell_type": "code",
   "execution_count": 43,
   "id": "eecfe0a4-ed31-4c53-aa1c-d5ea1e2c85a3",
   "metadata": {},
   "outputs": [],
   "source": [
    "def route(info):\n",
    "    if \"hw3\" in info[\"question\"].lower():\n",
    "        return hw3_chain\n",
    "    elif \"hw4\" in info[\"question\"].lower():\n",
    "        return hw4_chain\n",
    "    elif \"lecture 1\" in info[\"question\"].lower():\n",
    "        return lec1_chain\n",
    "    elif \"syllabus\" in info[\"question\"].lower():\n",
    "        return \"\"\"Thank you for asking about the syllabus for the upcoming midterm exam. I will need to confirm the details with the real teaching assistant for the subject. I'll reach out to them and get back to you as soon as possible with accurate information.\"\"\"\n",
    "    elif any(homework_question.lower() in info[\"question\"].lower() for homework_question in hw_questions):\n",
    "        return \"\"\"I'm here to help you learn and understand your homework better, not to provide direct answers as it's important for your learning. If there's a specific part of the homework you believe is incorrect or needs clarification, please let me know the details. I'm here to assist you with understanding the material!\"\"\"\n",
    "    else:\n",
    "        return pdf_chain"
   ]
  },
  {
   "cell_type": "markdown",
   "id": "a032360f-bbe0-4bef-ba71-5c72fbb46f3b",
   "metadata": {},
   "source": [
    "## QA"
   ]
  },
  {
   "cell_type": "code",
   "execution_count": 86,
   "id": "bac28a81-9b76-4d69-b5ea-58d572f27bc6",
   "metadata": {},
   "outputs": [
    {
     "data": {
      "text/plain": [
       "{'context': [Document(page_content='Post Subject: ArcGIS X USC\\nPost Content: For Hw3, if anyone having trouble with creating an ArcGIS trial account, Please refer to this link: https://usctrojan.maps.arcgis.com/ For further info refer : https://spatial.usc.edu/software/proprietary-software-students/\\nFollow Up Discussion: '),\n",
       "  Document(page_content=\"Post Subject: arcgis - Filetype\\nPost Content: Hello, After setting up a public ArcGIS account, when I navigate to the map tab and try to add a layer from a file, I'm shown this screen: It seems like I cannot add a .shp file as a layer?\\nFollow Up Discussion: No subject No content \")],\n",
       " 'question': 'Trouble with ArcGIS in hw3',\n",
       " 'answer': 'https://spatial.usc.edu/software/proprietary-software-students/'}"
      ]
     },
     "execution_count": 86,
     "metadata": {},
     "output_type": "execute_result"
    }
   ],
   "source": [
    "full_chain = {\"question\": lambda x: x[\"question\"]} | RunnableLambda(route)\n",
    "full_chain.invoke({\"question\": \"Trouble with ArcGIS in hw3\"})"
   ]
  },
  {
   "cell_type": "code",
   "execution_count": 32,
   "id": "6c350242-5b7d-47aa-a6bf-241ca3bde7b6",
   "metadata": {},
   "outputs": [
    {
     "data": {
      "text/plain": [
       "{'context': [Document(page_content=\"Frame Text: m bytesuscedu/csst\\n\\nLearning Objectives\\n\\n* In this chapter, you will learn:\\n* How the major data models evolved\\n\\n* About emerging alternative data models and the need\\nthey fulfill\\n\\n* How data models can be classified by their level of\\nabstraction\\n\\n\\nTranscription: how did this models evolve that is actually a very very useful question one of the biggest data models is called the relational data model slowly the first half of the course is getting you towards understanding what relational model is but the internet came along and give you a non-relational model so relational model is slowly not the dominant tomorrow but before that before the internet things slowly and then how do you classify all these different models tomorrow morning some analysis customer service very very very very very complex place all kinds of things going on currently okay so data modeling says I'll throw away all the messages that is what the modeling support Dynamics well not worried about the hundreds of thousands of parts that are in the rockets and that's how much does each stage in our way so how much do you need to launch the whole thing he doesn't matter that the launch the cockpit has leather padded seats simplification engineering my model all the time otherwise would go crazy some modeling is a way of finding\", metadata={'image_path': './data/Video/images/Lec_1/output_frame_6743.jpg', 'video': 'https://youtu.be/6LtgXVXrTzY?t=1h52m22s'}),\n",
       "  Document(page_content=\"Frame Text: Computer Science 585:\\nDatabase Systems g.0 ui\\n\\nDatabase system architecture; conceptual databaseligereepmantic, object-oriented, logic-based, and relational databases;\\nser and program intetfaces; database system implementation; integrity, security, concurrency and recovery. Recommended\\npreparation: Knowledge of relational databases, SQL, relational algebra and physical database design is required. Open only\\nto graduate students.\\n\\n@ Restriction: Registration open to the following class level(s): Master Student, Doctoral Student\\n\\nAy Note: If choosing this lecture, you should enroll in the discussion section immediately following it on the same day.\\n\\nSection Session Type Time Registered instructor Location\\n301500 a8 Lecture $200-7:20pm Os 0Fs3e A SathyanarayaRaghavachary JeTGFI04&0\\n\\n0288R One Discussion 7:30-8:208m Wednesday THe\\n3ors0r Quiz aiocaisopm Friday\\n\\n\\nTranscription: what is the notion of modeling data so every piece of data to be useful has to be modeled on the different kinds of you know like data model so we'll do that but maybe not so much interfaces definitely not implementation this is not\", metadata={'image_path': './data/Video/images/Lec_1/output_frame_0920.jpg', 'video': 'https://youtu.be/6LtgXVXrTzY?t=0h15m19s'})],\n",
       " 'question': 'How have the major data models evolved and classification of models by level of abstraction in lecture 1',\n",
       " 'answer': 'Refer to the lecture material for a detailed explanation.'}"
      ]
     },
     "execution_count": 32,
     "metadata": {},
     "output_type": "execute_result"
    }
   ],
   "source": [
    "full_chain = {\"question\": lambda x: x[\"question\"]} | RunnableLambda(route)\n",
    "full_chain.invoke({\"question\": \"How have the major data models evolved and classification of models by level of abstraction in lecture 1\"})"
   ]
  },
  {
   "cell_type": "code",
   "execution_count": 33,
   "id": "bff6dc4f-a51d-4dd9-9c9d-fc94980ed3e0",
   "metadata": {},
   "outputs": [
    {
     "data": {
      "text/plain": [
       "{'context': [Document(page_content='The three types of data anomalies\\n\\nee Types of Data Anomaly T Update Anomalies i] T Insertion Anomalies | - Deletion Anomalies i', metadata={'image_path': './data/PDF/images/585_1_pages/img_24.jpg', 'pdf': './data/PDF/pdf/585_1.pdf', 'pdf_page_num': 24}),\n",
       "  Document(page_content='Types of DBs [cont\\'d]\\n\\na Types of Databases * Online analytical processing (OLAP) = Enable retrieving, processing, and modeling data from the data warehouse \" Business intelligence: Captures and processes business data to generate information that support decision making', metadata={'image_path': './data/PDF/images/585_1_pages/img_14.jpg', 'pdf': './data/PDF/pdf/585_1.pdf', 'pdf_page_num': 14})],\n",
       " 'question': 'What are three types of data anomalies?',\n",
       " 'answer': 'Update Anomalies, Insertion Anomalies, Deletion Anomalies'}"
      ]
     },
     "execution_count": 33,
     "metadata": {},
     "output_type": "execute_result"
    }
   ],
   "source": [
    "full_chain = {\"question\": lambda x: x[\"question\"]} | RunnableLambda(route)\n",
    "full_chain.invoke({\"question\": \"What are three types of data anomalies?\"})"
   ]
  },
  {
   "cell_type": "code",
   "execution_count": 34,
   "id": "622b99fd-0990-488b-9ea6-98ba896ed3cb",
   "metadata": {},
   "outputs": [
    {
     "data": {
      "text/plain": [
       "\"Thank you for asking about the syllabus for the upcoming midterm exam. I will need to confirm the details with the real teaching assistant for the subject. I'll reach out to them and get back to you as soon as possible with accurate information.\""
      ]
     },
     "execution_count": 34,
     "metadata": {},
     "output_type": "execute_result"
    }
   ],
   "source": [
    "full_chain = {\"question\": lambda x: x[\"question\"]} | RunnableLambda(route)\n",
    "full_chain.invoke({\"question\": \"What is the syllabus for the upcoming midterm exam?\"})"
   ]
  },
  {
   "cell_type": "code",
   "execution_count": 44,
   "id": "fa4fe81a-353f-49f7-b434-ccc8045d476d",
   "metadata": {},
   "outputs": [
    {
     "data": {
      "text/plain": [
       "\"I'm here to help you learn and understand your homework better, not to provide direct answers as it's important for your learning. If there's a specific part of the homework you believe is incorrect or needs clarification, please let me know the details. I'm here to assist you with understanding the material!\""
      ]
     },
     "execution_count": 44,
     "metadata": {},
     "output_type": "execute_result"
    }
   ],
   "source": [
    "full_chain = {\"question\": lambda x: x[\"question\"]} | RunnableLambda(route)\n",
    "full_chain.invoke({\"question\": \"Compare and contrast extendible hashing with linear hashing?\"})"
   ]
  },
  {
   "cell_type": "markdown",
   "id": "c9c8c7be-bc85-4559-8b58-b4347e0d1843",
   "metadata": {},
   "source": [
    "## Assistant"
   ]
  },
  {
   "cell_type": "code",
   "execution_count": 45,
   "id": "5725bc41-789f-40b5-bb34-e5492fd41313",
   "metadata": {},
   "outputs": [],
   "source": [
    "from assistant import chat"
   ]
  },
  {
   "cell_type": "code",
   "execution_count": 90,
   "id": "2716bd30-7fe8-4a62-a3e6-9056a6a2417a",
   "metadata": {},
   "outputs": [
    {
     "name": "stdout",
     "output_type": "stream",
     "text": [
      "Refer to this link for troubleshooting ArcGIS in Homework 3: https://usctrojan.maps.arcgis.com/\n"
     ]
    }
   ],
   "source": [
    "query = \"Trouble with ArcGIS in hw3\"\n",
    "response = chat(query)\n",
    "print(response)"
   ]
  },
  {
   "cell_type": "code",
   "execution_count": 46,
   "id": "ff5f9b71-387b-4459-9d44-16811f2561c0",
   "metadata": {},
   "outputs": [
    {
     "name": "stdout",
     "output_type": "stream",
     "text": [
      "I'm here to help you learn and understand your homework better, not to provide direct answers as it's important for your learning. If there's a specific part of the homework you believe is incorrect or needs clarification, please let me know the details. I'm here to assist you with understanding the material!\n"
     ]
    }
   ],
   "source": [
    "query = \"Compare and contrast extendible hashing with linear hashing?\"\n",
    "response = chat(query)\n",
    "print(response)"
   ]
  },
  {
   "cell_type": "code",
   "execution_count": null,
   "id": "22350327-c5c7-4807-a403-73f69a9e33bb",
   "metadata": {},
   "outputs": [],
   "source": []
  }
 ],
 "metadata": {
  "kernelspec": {
   "display_name": "ta",
   "language": "python",
   "name": "ta"
  },
  "language_info": {
   "codemirror_mode": {
    "name": "ipython",
    "version": 3
   },
   "file_extension": ".py",
   "mimetype": "text/x-python",
   "name": "python",
   "nbconvert_exporter": "python",
   "pygments_lexer": "ipython3",
   "version": "3.9.12"
  }
 },
 "nbformat": 4,
 "nbformat_minor": 5
}
